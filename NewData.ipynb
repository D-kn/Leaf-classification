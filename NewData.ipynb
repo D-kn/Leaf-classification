{
 "cells": [
  {
   "cell_type": "code",
   "execution_count": 2,
   "metadata": {},
   "outputs": [],
   "source": [
    "import cv2"
   ]
  },
  {
   "cell_type": "code",
   "execution_count": 3,
   "metadata": {},
   "outputs": [],
   "source": [
    "import os \n",
    "from shutil import copyfile"
   ]
  },
  {
   "cell_type": "code",
   "execution_count": 4,
   "metadata": {},
   "outputs": [
    {
     "data": {
      "text/plain": [
       "'4.4.0'"
      ]
     },
     "execution_count": 4,
     "metadata": {},
     "output_type": "execute_result"
    }
   ],
   "source": [
    "cv2 .__version__"
   ]
  },
  {
   "cell_type": "markdown",
   "metadata": {},
   "source": [
    "## Class number"
   ]
  },
  {
   "cell_type": "code",
   "execution_count": 5,
   "metadata": {},
   "outputs": [],
   "source": [
    "class_name = {'1001-1059':'pubescent bamboo', '1060-1122':'Chinese horse chestnut', '1552-1616':'Anhui Barberry', '1123-1194':'Chinese redbud', '1195-1267':'true indigo', '1268-1323':'Japanese maple',\n",
    "             '1324-1385':'Nanmu', '1386-1437':'castor aralia', '1497-1551':'Chinese cinnamon', '1438-1496':'goldenrain tree', '2001-2050':'Big-fruited Holly', '2051-2113':'Japanese cheesewood', '2114-2165':'wintersweet',\n",
    "             '2166-2230':'camphortree', '2231-2290':'Japan Arrowwood', '2291-2346':'sweet osmanthus', '2347-2423':'deodar', '2424-2485':'ginkgo', '2486-2546':'Crape myrtle', '2547-2612':'oleander', '2616-2675':'yew plum pine', '3001-3055':'Japanese Flowering Cherry',\n",
    "             '3056-3110':'Glossy Privet', '3111-3175':'Chinese Toon', '3176-3229':'peach', '3230-3281':'Ford Woodlotus', '3282-3334':'trident maple', '3335-3389':'Beales barberry', '3390-3446':'southern magnolia', '3447-3510':'Canadian poplar',\n",
    "             '3511-3563':'Chinese tulip tree', '3566-3621':'tangerine'}"
   ]
  },
  {
   "cell_type": "code",
   "execution_count": 6,
   "metadata": {},
   "outputs": [
    {
     "data": {
      "text/plain": [
       "32"
      ]
     },
     "execution_count": 6,
     "metadata": {},
     "output_type": "execute_result"
    }
   ],
   "source": [
    "len(class_name)"
   ]
  },
  {
   "cell_type": "markdown",
   "metadata": {},
   "source": [
    "## Définition des chemins d'accès aux datasets\n"
   ]
  },
  {
   "cell_type": "code",
   "execution_count": 7,
   "metadata": {},
   "outputs": [],
   "source": [
    "data_dir1 ='./Leaves/'\n",
    "data_dir2 = './data_2/'"
   ]
  },
  {
   "cell_type": "markdown",
   "metadata": {},
   "source": [
    "## New Directory"
   ]
  },
  {
   "cell_type": "code",
   "execution_count": 8,
   "metadata": {},
   "outputs": [],
   "source": [
    "for key, item in class_name.items():\n",
    "    nb1 = int(key.split('-')[0])\n",
    "    nb2 = int(key.split('-')[1])\n",
    "    \n",
    "    my_path = data_dir2+item\n",
    "    if not os.path.exists(my_path):\n",
    "        os.makedirs(my_path)\n",
    "    for image in os.listdir(data_dir1):\n",
    "        img_name = image.split('.')[0]\n",
    "        if nb1 <= int(img_name) <= nb2:\n",
    "            copyfile(os.path.join(data_dir1, image), os.path.join(my_path, img_name + '.' + image.split('.')[1]))"
   ]
  },
  {
   "cell_type": "code",
   "execution_count": 9,
   "metadata": {},
   "outputs": [],
   "source": [
    "data_dir2 = './data_2/'"
   ]
  },
  {
   "cell_type": "code",
   "execution_count": 10,
   "metadata": {},
   "outputs": [],
   "source": [
    "file = os.listdir(data_dir2)"
   ]
  },
  {
   "cell_type": "code",
   "execution_count": 12,
   "metadata": {},
   "outputs": [
    {
     "name": "stdout",
     "output_type": "stream",
     "text": [
      "Japan Arrowwood\n",
      "peach\n",
      "Japanese maple\n",
      "sweet osmanthus\n",
      "Anhui Barberry\n",
      "Chinese redbud\n",
      "Glossy Privet\n",
      "Crape myrtle\n",
      "Beales barberry\n",
      "Chinese Toon\n",
      "oleander\n",
      "trident maple\n",
      "goldenrain tree\n",
      "true indigo\n",
      "wintersweet\n",
      "Big-fruited Holly\n",
      "Chinese tulip tree\n",
      "deodar\n",
      "Nanmu\n",
      "Chinese cinnamon\n",
      "camphortree\n",
      "ginkgo\n",
      "tangerine\n",
      "castor aralia\n",
      "southern magnolia\n",
      "Ford Woodlotus\n",
      "yew plum pine\n",
      "Chinese horse chestnut\n",
      "pubescent bamboo\n",
      "Japanese cheesewood\n",
      "Canadian poplar\n",
      "Japanese Flowering Cherry\n"
     ]
    }
   ],
   "source": [
    "for f in file:\n",
    "    print(f)"
   ]
  },
  {
   "cell_type": "code",
   "execution_count": null,
   "metadata": {},
   "outputs": [],
   "source": []
  }
 ],
 "metadata": {
  "kernelspec": {
   "display_name": "Python 3",
   "language": "python",
   "name": "python3"
  },
  "language_info": {
   "codemirror_mode": {
    "name": "ipython",
    "version": 3
   },
   "file_extension": ".py",
   "mimetype": "text/x-python",
   "name": "python",
   "nbconvert_exporter": "python",
   "pygments_lexer": "ipython3",
   "version": "3.8.8"
  }
 },
 "nbformat": 4,
 "nbformat_minor": 4
}
